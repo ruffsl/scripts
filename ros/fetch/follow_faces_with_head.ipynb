{
 "cells": [
  {
   "cell_type": "code",
   "execution_count": 1,
   "metadata": {
    "collapsed": true
   },
   "outputs": [],
   "source": [
    "#!/usr/bin/env python\n",
    "from __future__ import print_function\n",
    "\n",
    "import actionlib\n",
    "import rospy\n",
    "\n",
    "from control_msgs.msg import PointHeadAction, PointHeadGoal\n",
    "\n",
    "from geometry_msgs.msg import PointStamped\n",
    "\n",
    "from people_msgs.msg import PositionMeasurementArray, PositionMeasurement\n",
    "from tf import TransformListener"
   ]
  },
  {
   "cell_type": "code",
   "execution_count": 2,
   "metadata": {
    "collapsed": true
   },
   "outputs": [],
   "source": [
    "faces_topic = \"face_detector/people_tracker_measurements_array\"\n",
    "face_tracked_topic  = \"face_tracked\"\n",
    "action_client = \"head_controller/point_head\""
   ]
  },
  {
   "cell_type": "code",
   "execution_count": 3,
   "metadata": {
    "collapsed": true
   },
   "outputs": [],
   "source": [
    "class Follower():\n",
    "\n",
    "    def __init__(self, *args):\n",
    "        self.tf = TransformListener()\n",
    "        self.client = actionlib.SimpleActionClient(action_client, PointHeadAction)\n",
    "        self.client.wait_for_server()\n",
    "        rospy.Subscriber(faces_topic, PositionMeasurementArray, self.callback)\n",
    "        self.person_tracked_pub = rospy.Publisher(face_tracked_topic, PositionMeasurement, queue_size=10)\n",
    "        self.person_tracked = PositionMeasurement()\n",
    "        self.rate = rospy.Rate(30)\n",
    "        rospy.spin()\n",
    "\n",
    "    def callback(self, msg):\n",
    "        for person in msg.people:\n",
    "            if person.object_id == self.person_tracked.object_id:\n",
    "                break\n",
    "        point = PointStamped()\n",
    "        point.header = person.header\n",
    "        point.point = person.pos\n",
    "        self.set_point_head(point)\n",
    "        self.person_tracked_pub.publish(person)\n",
    "        self.person_tracked = person\n",
    "        self.rate.sleep()\n",
    "\n",
    "\n",
    "    def set_point_head(self, point):\n",
    "        goal = PointHeadGoal()\n",
    "        corrected_point = self.tf.transformPoint(\"base_link\", point)\n",
    "        goal.target = corrected_point\n",
    "        goal.min_duration = rospy.Duration(.5)\n",
    "        goal.max_velocity = 1\n",
    "\n",
    "        self.client.send_goal(goal)\n",
    "#         self.client.wait_for_result()\n",
    "#         return self.client.get_result()"
   ]
  },
  {
   "cell_type": "code",
   "execution_count": null,
   "metadata": {
    "collapsed": false
   },
   "outputs": [],
   "source": [
    "if __name__ == '__main__':\n",
    "    rospy.init_node('looker')\n",
    "    try:\n",
    "        ne = Follower()\n",
    "    except rospy.ROSInterruptException:\n",
    "        pass"
   ]
  },
  {
   "cell_type": "code",
   "execution_count": null,
   "metadata": {
    "collapsed": true
   },
   "outputs": [],
   "source": []
  }
 ],
 "metadata": {
  "kernelspec": {
   "display_name": "Python 2",
   "language": "python",
   "name": "python2"
  },
  "language_info": {
   "codemirror_mode": {
    "name": "ipython",
    "version": 2
   },
   "file_extension": ".py",
   "mimetype": "text/x-python",
   "name": "python",
   "nbconvert_exporter": "python",
   "pygments_lexer": "ipython2",
   "version": "2.7.12"
  }
 },
 "nbformat": 4,
 "nbformat_minor": 2
}
