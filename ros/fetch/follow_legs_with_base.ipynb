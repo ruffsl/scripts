{
 "cells": [
  {
   "cell_type": "code",
   "execution_count": 1,
   "metadata": {
    "collapsed": true,
    "deletable": true,
    "editable": true
   },
   "outputs": [],
   "source": [
    "#!/usr/bin/env python\n",
    "from __future__ import print_function\n",
    "\n",
    "import actionlib\n",
    "import rospy\n",
    "\n",
    "from people_msgs.msg import PositionMeasurementArray, PositionMeasurement\n",
    "from tf import TransformListener\n",
    "\n",
    "from leg_tracker.msg import Person, PersonArray, Leg, LegArray\n",
    "\n",
    "from move_base_msgs.msg import MoveBaseGoal, MoveBaseAction\n",
    "from geometry_msgs.msg import Pose, PoseStamped, PoseWithCovarianceStamped\n",
    "\n",
    "from tf_conversions import posemath\n",
    "\n",
    "import numpy as np"
   ]
  },
  {
   "cell_type": "code",
   "execution_count": 2,
   "metadata": {
    "collapsed": false
   },
   "outputs": [],
   "source": [
    "face_tracked_topic = \"face_tracked\"\n",
    "legs_tracked_topic = \"people_tracked\"\n",
    "max_match_distance = 2"
   ]
  },
  {
   "cell_type": "code",
   "execution_count": 3,
   "metadata": {
    "collapsed": false
   },
   "outputs": [],
   "source": [
    "class Follower():\n",
    "    def __init__(self):\n",
    "        \"\"\"Initialize Node\n",
    "        Sets up the topic subscriptions, transform listener, and book keeping\n",
    "        \"\"\"\n",
    "        rospy.init_node('walker', anonymous=True)\n",
    "        \n",
    "        self.tf = TransformListener()\n",
    "        rospy.Subscriber(face_tracked_topic, PositionMeasurement, self.face_callback)\n",
    "        rospy.Subscriber(legs_tracked_topic, PersonArray, self.legs_callback)\n",
    "\n",
    "        self.face_tracked = PositionMeasurement()\n",
    "        self.legs_tracked = PersonArray()\n",
    "        self.person_tracked = Person()\n",
    "\n",
    "        self.target_face_id = None\n",
    "        self.target_legs_id = None\n",
    "        rospy.spin()\n",
    "\n",
    "    def face_callback(self, msg):\n",
    "        \"\"\" Face topic callback\n",
    "        Use new tracked face message to find matching legs\n",
    "        \"\"\"\n",
    "        rospy.loginfo(rospy.get_caller_id() + \" Recived Face ID: %s\", str(msg.object_id))\n",
    "        \n",
    "        # Move face point to legs reference frame\n",
    "        face_frame_to_leg_frame = self.tf.lookupTransformFull( # Get TF between face and leg frames\n",
    "            self.legs_tracked.header.frame_id, # target_frame\n",
    "            self.legs_tracked.header.stamp,    # target_time\n",
    "            msg.header.frame_id,               # source_frame\n",
    "            msg.header.stamp,                  # source_time\n",
    "            'base_link')                       # fixed_frame\n",
    "        face_frame_to_leg_frame = posemath.fromTf(face_frame_to_leg_frame)\n",
    "        face_frame_to_leg_frame = posemath.toMatrix(face_frame_to_leg_frame)\n",
    "        face_point = np.array([[msg.pos.x],[msg.pos.y],[msg.pos.z],[1]])\n",
    "        face_point_fixed = (face_frame_to_leg_frame*face_point)[:,3][0:2] #3] # PointB = TF_A->B * PointA\n",
    "        \n",
    "        # Book keeping to search for closest pair of legs\n",
    "        best_match_index = None\n",
    "        best_match_distance = max_match_distance\n",
    "        legs_tracked = self.legs_tracked\n",
    "        \n",
    "        # Loop though all the legs\n",
    "        for index, legs in enumerate(legs_tracked.people):\n",
    "            position = legs.pose.position\n",
    "            legs_point = np.array([position.x,position.y]) #,position.z])\n",
    "            match_distance = self.calc_distance(face_point_fixed,legs_point)\n",
    "            if match_distance < best_match_distance:\n",
    "                best_match_distance = match_distance\n",
    "                best_match_index = index\n",
    "        \n",
    "        # If its close enough, then remember those legs\n",
    "        if best_match_index is not None:\n",
    "            self.person_tracked = legs_tracked.people[best_match_index]\n",
    "            rospy.loginfo(rospy.get_caller_id() + \" Matched Leg ID: %s\", str(self.person_tracked.id))\n",
    "            rospy.loginfo(rospy.get_caller_id() + \" Matchdistave: %s\", str(best_match_distance))\n",
    "        self.face_tracked = msg\n",
    "        \n",
    "        \n",
    "    def legs_callback(self, msg):\n",
    "        \"\"\" Legs topic callback\n",
    "        Update tracking of legs and set goal to person tracked\n",
    "        \"\"\"\n",
    "        self.legs_tracked=msg\n",
    "\n",
    "    \n",
    "    def calc_distance(self, face_point,legs_point):\n",
    "        \"\"\" Calulate distance between two points\n",
    "        Simple L2 norm\n",
    "        \"\"\"\n",
    "        return np.linalg.norm((face_point,legs_point))\n",
    "\n"
   ]
  },
  {
   "cell_type": "code",
   "execution_count": null,
   "metadata": {
    "collapsed": false
   },
   "outputs": [
    {
     "name": "stdout",
     "output_type": "stream",
     "text": [
      "[INFO] [1486891617.769716]: /walker_26513_1486891613385Recived Face ID: 348\n",
      "[INFO] [1486891617.778778]: /walker_26513_1486891613385Matched Leg ID: 1010\n",
      "[INFO] [1486891617.779798]: /walker_26513_1486891613385Matchdistave: 1.2295183876\n",
      "[INFO] [1486891617.780848]: /walker_26513_1486891613385Recived Face ID: 348\n",
      "[INFO] [1486891617.781779]: /walker_26513_1486891613385Matched Leg ID: 1010\n",
      "[INFO] [1486891617.782438]: /walker_26513_1486891613385Matchdistave: 1.22951791292\n",
      "[INFO] [1486891618.088673]: /walker_26513_1486891613385Recived Face ID: 348\n",
      "[INFO] [1486891618.089574]: /walker_26513_1486891613385Matched Leg ID: 1010\n",
      "[INFO] [1486891618.090282]: /walker_26513_1486891613385Matchdistave: 1.22850600121\n"
     ]
    }
   ],
   "source": [
    "ne = Follower()"
   ]
  },
  {
   "cell_type": "code",
   "execution_count": 8,
   "metadata": {
    "collapsed": true
   },
   "outputs": [],
   "source": [
    "face_tracked = PositionMeasurement()"
   ]
  },
  {
   "cell_type": "code",
   "execution_count": 9,
   "metadata": {
    "collapsed": false
   },
   "outputs": [],
   "source": [
    "legs_tracked = PersonArray()"
   ]
  },
  {
   "cell_type": "code",
   "execution_count": 10,
   "metadata": {
    "collapsed": false
   },
   "outputs": [],
   "source": [
    "person_tracked = Person()"
   ]
  },
  {
   "cell_type": "code",
   "execution_count": null,
   "metadata": {
    "collapsed": false
   },
   "outputs": [],
   "source": [
    "person_tracked."
   ]
  },
  {
   "cell_type": "code",
   "execution_count": 11,
   "metadata": {
    "collapsed": false
   },
   "outputs": [
    {
     "data": {
      "text/plain": [
       "[[-0.10946398], [0.07148078], [0.99141724], [1.0]]"
      ]
     },
     "execution_count": 11,
     "metadata": {},
     "output_type": "execute_result"
    }
   ],
   "source": [
    "bar = [[-0.10946398,],\n",
    "        [ 0.07148078,],\n",
    "        [ 0.99141724,],\n",
    "        [ 1.        ]]\n",
    "bar"
   ]
  },
  {
   "cell_type": "code",
   "execution_count": 12,
   "metadata": {
    "collapsed": false
   },
   "outputs": [],
   "source": [
    "foo = posemath.fromTf(((1,2,3),(0,0,0,1)))\n",
    "face_frame_to_leg_frame = posemath.toMatrix(foo)"
   ]
  },
  {
   "cell_type": "code",
   "execution_count": 13,
   "metadata": {
    "collapsed": false
   },
   "outputs": [
    {
     "name": "stdout",
     "output_type": "stream",
     "text": [
      "[[-0.10946398 -0.         -0.         -0.10946398]\n",
      " [ 0.          0.07148078  0.          0.14296156]\n",
      " [ 0.          0.          0.99141724  2.97425172]\n",
      " [ 0.          0.          0.          1.        ]]\n",
      "[-0.10946398  0.14296156  2.97425172]\n"
     ]
    }
   ],
   "source": [
    "spam = face_frame_to_leg_frame*bar\n",
    "print(spam)\n",
    "woot = spam[:,3][0:3]\n",
    "print(woot)"
   ]
  },
  {
   "cell_type": "code",
   "execution_count": 15,
   "metadata": {
    "collapsed": false
   },
   "outputs": [
    {
     "data": {
      "text/plain": [
       "4.2139277792762497"
      ]
     },
     "execution_count": 15,
     "metadata": {},
     "output_type": "execute_result"
    }
   ],
   "source": [
    "np.linalg.norm((woot,woot))"
   ]
  },
  {
   "cell_type": "code",
   "execution_count": null,
   "metadata": {
    "collapsed": true
   },
   "outputs": [],
   "source": []
  }
 ],
 "metadata": {
  "kernelspec": {
   "display_name": "Python 2",
   "language": "python",
   "name": "python2"
  },
  "language_info": {
   "codemirror_mode": {
    "name": "ipython",
    "version": 2
   },
   "file_extension": ".py",
   "mimetype": "text/x-python",
   "name": "python",
   "nbconvert_exporter": "python",
   "pygments_lexer": "ipython2",
   "version": "2.7.12"
  }
 },
 "nbformat": 4,
 "nbformat_minor": 2
}
